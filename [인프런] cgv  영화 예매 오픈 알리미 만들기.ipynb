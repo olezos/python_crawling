{
 "cells": [
  {
   "cell_type": "markdown",
   "metadata": {},
   "source": [
    "# selenium install하기"
   ]
  },
  {
   "cell_type": "code",
   "execution_count": 38,
   "metadata": {},
   "outputs": [
    {
     "name": "stdout",
     "output_type": "stream",
     "text": [
      "Requirement already satisfied: selenium in c:\\programdata\\anaconda3\\lib\\site-packages (4.8.2)\n",
      "Requirement already satisfied: trio~=0.17 in c:\\programdata\\anaconda3\\lib\\site-packages (from selenium) (0.22.0)\n",
      "Requirement already satisfied: urllib3[socks]~=1.26 in c:\\programdata\\anaconda3\\lib\\site-packages (from selenium) (1.26.14)\n",
      "Requirement already satisfied: trio-websocket~=0.9 in c:\\programdata\\anaconda3\\lib\\site-packages (from selenium) (0.9.2)\n",
      "Requirement already satisfied: certifi>=2021.10.8 in c:\\programdata\\anaconda3\\lib\\site-packages (from selenium) (2022.12.7)\n",
      "Requirement already satisfied: idna in c:\\programdata\\anaconda3\\lib\\site-packages (from trio~=0.17->selenium) (2.10)\n",
      "Requirement already satisfied: sortedcontainers in c:\\programdata\\anaconda3\\lib\\site-packages (from trio~=0.17->selenium) (2.2.2)\n",
      "Requirement already satisfied: async-generator>=1.9 in c:\\programdata\\anaconda3\\lib\\site-packages (from trio~=0.17->selenium) (1.10)\n",
      "Requirement already satisfied: outcome in c:\\programdata\\anaconda3\\lib\\site-packages (from trio~=0.17->selenium) (1.2.0)\n",
      "Requirement already satisfied: cffi>=1.14; os_name == \"nt\" and implementation_name != \"pypy\" in c:\\programdata\\anaconda3\\lib\\site-packages (from trio~=0.17->selenium) (1.14.3)\n",
      "Requirement already satisfied: sniffio in c:\\programdata\\anaconda3\\lib\\site-packages (from trio~=0.17->selenium) (1.3.0)\n",
      "Requirement already satisfied: exceptiongroup>=1.0.0rc9; python_version < \"3.11\" in c:\\programdata\\anaconda3\\lib\\site-packages (from trio~=0.17->selenium) (1.1.0)\n",
      "Requirement already satisfied: attrs>=19.2.0 in c:\\programdata\\anaconda3\\lib\\site-packages (from trio~=0.17->selenium) (20.3.0)\n",
      "Requirement already satisfied: PySocks!=1.5.7,<2.0,>=1.5.6; extra == \"socks\" in c:\\programdata\\anaconda3\\lib\\site-packages (from urllib3[socks]~=1.26->selenium) (1.7.1)\n",
      "Requirement already satisfied: wsproto>=0.14 in c:\\programdata\\anaconda3\\lib\\site-packages (from trio-websocket~=0.9->selenium) (1.2.0)\n",
      "Requirement already satisfied: pycparser in c:\\programdata\\anaconda3\\lib\\site-packages (from cffi>=1.14; os_name == \"nt\" and implementation_name != \"pypy\"->trio~=0.17->selenium) (2.20)\n",
      "Requirement already satisfied: h11<1,>=0.9.0 in c:\\programdata\\anaconda3\\lib\\site-packages (from wsproto>=0.14->trio-websocket~=0.9->selenium) (0.14.0)\n"
     ]
    }
   ],
   "source": [
    "!pip install selenium"
   ]
  },
  {
   "cell_type": "code",
   "execution_count": 39,
   "metadata": {},
   "outputs": [],
   "source": [
    "import requests\n",
    "import urllib.request"
   ]
  },
  {
   "cell_type": "code",
   "execution_count": 27,
   "metadata": {},
   "outputs": [],
   "source": [
    "from bs4 import BeautifulSoup\n",
    "from selenium import webdriver"
   ]
  },
  {
   "cell_type": "code",
   "execution_count": 31,
   "metadata": {},
   "outputs": [],
   "source": [
    "driver = webdriver.Chrome('chromedriver')"
   ]
  },
  {
   "cell_type": "code",
   "execution_count": 153,
   "metadata": {},
   "outputs": [],
   "source": [
    "url='http://www.cgv.co.kr/theaters/?areacode=01&theaterCode=0013&date=20230301'\n",
    "driver.get(url)"
   ]
  },
  {
   "cell_type": "code",
   "execution_count": 154,
   "metadata": {},
   "outputs": [],
   "source": [
    "driver.switch_to.frame('ifrm_movie_time_table')\n",
    "\n",
    "html=driver.page_source\n",
    "\n",
    "soup=BeautifulSoup(html,'xml')"
   ]
  },
  {
   "cell_type": "markdown",
   "metadata": {},
   "source": [
    "# IMAX 여부 확인"
   ]
  },
  {
   "cell_type": "code",
   "execution_count": 155,
   "metadata": {},
   "outputs": [
    {
     "name": "stdout",
     "output_type": "stream",
     "text": [
      "<span class=\"imax\">IMAX</span>\n"
     ]
    }
   ],
   "source": [
    "print(soup.select_one('span.imax'))"
   ]
  },
  {
   "cell_type": "code",
   "execution_count": 156,
   "metadata": {},
   "outputs": [],
   "source": [
    "imax=soup.select_one('span.imax')"
   ]
  },
  {
   "cell_type": "markdown",
   "metadata": {},
   "source": [
    "# bs4로 영화 제목 크롤링"
   ]
  },
  {
   "cell_type": "code",
   "execution_count": 157,
   "metadata": {},
   "outputs": [
    {
     "name": "stdout",
     "output_type": "stream",
     "text": [
      "멍뭉이\n",
      "더 퍼스트 슬램덩크\n",
      "아임 히어로 더 파이널\n",
      "앤트맨과 와스프-퀀텀매니아\n",
      "더 웨일\n",
      "대외비\n",
      "카운트\n",
      "서치 2\n",
      "마루이 비디오\n",
      "에브리씽 에브리웨어 올 앳 원스+\n",
      "TAR 타르\n",
      "상견니\n",
      "영웅\n",
      "바빌론\n"
     ]
    }
   ],
   "source": [
    "title_list = soup.select('div.info-movie')\n",
    "for i in title_list:\n",
    "    print(i.select_one('a > strong').text.strip())"
   ]
  },
  {
   "cell_type": "markdown",
   "metadata": {},
   "source": [
    "# IMAX 영화 예매 오픈 여부 크롤링 및\n",
    "# 텔레그램으로 IMAX 영화 제목 전송하기"
   ]
  },
  {
   "cell_type": "markdown",
   "metadata": {},
   "source": [
    "# 텔레그램 봇 구축하기"
   ]
  },
  {
   "cell_type": "code",
   "execution_count": 1,
   "metadata": {},
   "outputs": [
    {
     "name": "stdout",
     "output_type": "stream",
     "text": [
      "Requirement already satisfied: python-telegram-bot in c:\\programdata\\anaconda3\\lib\\site-packages (20.1)\n",
      "Requirement already satisfied: httpx[http2]~=0.23.3 in c:\\programdata\\anaconda3\\lib\\site-packages (from python-telegram-bot) (0.23.3)\n",
      "Requirement already satisfied: httpcore<0.17.0,>=0.15.0 in c:\\programdata\\anaconda3\\lib\\site-packages (from httpx[http2]~=0.23.3->python-telegram-bot) (0.16.3)\n",
      "Requirement already satisfied: sniffio in c:\\programdata\\anaconda3\\lib\\site-packages (from httpx[http2]~=0.23.3->python-telegram-bot) (1.3.0)\n",
      "Requirement already satisfied: rfc3986[idna2008]<2,>=1.3 in c:\\programdata\\anaconda3\\lib\\site-packages (from httpx[http2]~=0.23.3->python-telegram-bot) (1.5.0)\n",
      "Requirement already satisfied: certifi in c:\\programdata\\anaconda3\\lib\\site-packages (from httpx[http2]~=0.23.3->python-telegram-bot) (2022.12.7)\n",
      "Requirement already satisfied: h2<5,>=3; extra == \"http2\" in c:\\programdata\\anaconda3\\lib\\site-packages (from httpx[http2]~=0.23.3->python-telegram-bot) (4.1.0)\n",
      "Requirement already satisfied: h11<0.15,>=0.13 in c:\\programdata\\anaconda3\\lib\\site-packages (from httpcore<0.17.0,>=0.15.0->httpx[http2]~=0.23.3->python-telegram-bot) (0.14.0)\n",
      "Requirement already satisfied: anyio<5.0,>=3.0 in c:\\programdata\\anaconda3\\lib\\site-packages (from httpcore<0.17.0,>=0.15.0->httpx[http2]~=0.23.3->python-telegram-bot) (3.6.2)\n",
      "Requirement already satisfied: idna; extra == \"idna2008\" in c:\\programdata\\anaconda3\\lib\\site-packages (from rfc3986[idna2008]<2,>=1.3->httpx[http2]~=0.23.3->python-telegram-bot) (2.10)\n",
      "Requirement already satisfied: hyperframe<7,>=6.0 in c:\\programdata\\anaconda3\\lib\\site-packages (from h2<5,>=3; extra == \"http2\"->httpx[http2]~=0.23.3->python-telegram-bot) (6.0.1)\n",
      "Requirement already satisfied: hpack<5,>=4.0 in c:\\programdata\\anaconda3\\lib\\site-packages (from h2<5,>=3; extra == \"http2\"->httpx[http2]~=0.23.3->python-telegram-bot) (4.0.0)\n"
     ]
    }
   ],
   "source": [
    "!pip install python-telegram-bot"
   ]
  },
  {
   "cell_type": "code",
   "execution_count": 2,
   "metadata": {},
   "outputs": [],
   "source": [
    "import telegram"
   ]
  },
  {
   "cell_type": "code",
   "execution_count": 3,
   "metadata": {},
   "outputs": [],
   "source": [
    "bot = telegram.Bot(token = '6268218504:AAEeZL9Rd6HbunZ-YUztD9bzZQEKx2H24mE')"
   ]
  },
  {
   "cell_type": "code",
   "execution_count": 4,
   "metadata": {},
   "outputs": [
    {
     "data": {
      "text/plain": [
       "Message(channel_chat_created=False, chat=Chat(first_name='윤', id=6239852806, last_name='소영', type=<ChatType.PRIVATE>), date=datetime.datetime(2023, 3, 2, 8, 13, 27, tzinfo=<UTC>), delete_chat_photo=False, from_user=User(first_name='inflearntestbot', id=6268218504, is_bot=True, username='inflearntests_bot'), group_chat_created=False, message_id=8, supergroup_chat_created=False, text='hi')"
      ]
     },
     "execution_count": 4,
     "metadata": {},
     "output_type": "execute_result"
    }
   ],
   "source": [
    "await bot.sendMessage(chat_id=6239852806, text='hi')"
   ]
  },
  {
   "cell_type": "code",
   "execution_count": 158,
   "metadata": {},
   "outputs": [],
   "source": [
    "if(imax) :\n",
    "    imax = imax.find_parent('div', class_='col-times')\n",
    "    #print(imax)  // 부모인 col-times불러오기\n",
    "    title = imax.select_one('div.info-movie > a > strong').text.strip()\n",
    "    await bot.sendMessage(chat_id=6239852806, text=title + '' + 'IMAX 예매가 열렸습니다.')\n",
    "    #print(title + ' '+ 'IMAX 예매가 열렸습니다.')\n",
    "    \n",
    "else :\n",
    "    await bot.sendMessage(chat_id=6239852806, text='IMAX 예매가 아직 열리지 않았습니다.')\n",
    "    #print('IMAX 예매가 아직 열리지 않았습니다.')"
   ]
  },
  {
   "cell_type": "markdown",
   "metadata": {},
   "source": [
    "# 스케쥴러 install"
   ]
  },
  {
   "cell_type": "code",
   "execution_count": 159,
   "metadata": {},
   "outputs": [
    {
     "name": "stdout",
     "output_type": "stream",
     "text": [
      "Collecting apscheduler\n",
      "  Downloading APScheduler-3.10.0-py3-none-any.whl (59 kB)\n",
      "Requirement already satisfied: six>=1.4.0 in c:\\programdata\\anaconda3\\lib\\site-packages (from apscheduler) (1.15.0)\n",
      "Collecting tzlocal!=3.*,>=2.0\n",
      "  Downloading tzlocal-4.2-py3-none-any.whl (19 kB)\n",
      "Requirement already satisfied: setuptools>=0.7 in c:\\programdata\\anaconda3\\lib\\site-packages (from apscheduler) (50.3.1.post20201107)\n",
      "Requirement already satisfied: pytz in c:\\programdata\\anaconda3\\lib\\site-packages (from apscheduler) (2020.1)\n",
      "Collecting tzdata; platform_system == \"Windows\"\n",
      "  Downloading tzdata-2022.7-py2.py3-none-any.whl (340 kB)\n",
      "Collecting pytz-deprecation-shim\n",
      "  Downloading pytz_deprecation_shim-0.1.0.post0-py2.py3-none-any.whl (15 kB)\n",
      "Collecting backports.zoneinfo; python_version < \"3.9\"\n",
      "  Downloading backports.zoneinfo-0.2.1-cp38-cp38-win_amd64.whl (38 kB)\n",
      "Installing collected packages: tzdata, backports.zoneinfo, pytz-deprecation-shim, tzlocal, apscheduler\n",
      "Successfully installed apscheduler-3.10.0 backports.zoneinfo-0.2.1 pytz-deprecation-shim-0.1.0.post0 tzdata-2022.7 tzlocal-4.2\n"
     ]
    }
   ],
   "source": [
    "!pip install apscheduler"
   ]
  }
 ],
 "metadata": {
  "kernelspec": {
   "display_name": "Python 3",
   "language": "python",
   "name": "python3"
  },
  "language_info": {
   "codemirror_mode": {
    "name": "ipython",
    "version": 3
   },
   "file_extension": ".py",
   "mimetype": "text/x-python",
   "name": "python",
   "nbconvert_exporter": "python",
   "pygments_lexer": "ipython3",
   "version": "3.8.5"
  }
 },
 "nbformat": 4,
 "nbformat_minor": 4
}
